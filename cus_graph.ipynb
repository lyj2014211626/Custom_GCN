{
 "cells": [
  {
   "cell_type": "code",
   "execution_count": 1,
   "metadata": {},
   "outputs": [
    {
     "ename": "ModuleNotFoundError",
     "evalue": "No module named 'torchvision'",
     "output_type": "error",
     "traceback": [
      "\u001b[1;31m---------------------------------------------------------------------------\u001b[0m",
      "\u001b[1;31mModuleNotFoundError\u001b[0m                       Traceback (most recent call last)",
      "\u001b[1;32m<ipython-input-1-c85ad938de4f>\u001b[0m in \u001b[0;36m<module>\u001b[1;34m()\u001b[0m\n\u001b[0;32m      4\u001b[0m \u001b[1;32mfrom\u001b[0m \u001b[0mtorch\u001b[0m\u001b[1;33m.\u001b[0m\u001b[0mnn\u001b[0m \u001b[1;32mimport\u001b[0m \u001b[0mfunctional\u001b[0m \u001b[1;32mas\u001b[0m \u001b[0mF\u001b[0m\u001b[1;33m\u001b[0m\u001b[0m\n\u001b[0;32m      5\u001b[0m \u001b[1;32mfrom\u001b[0m \u001b[0mtorch\u001b[0m \u001b[1;32mimport\u001b[0m \u001b[0mnn\u001b[0m\u001b[1;33m,\u001b[0m \u001b[0moptim\u001b[0m\u001b[1;33m\u001b[0m\u001b[0m\n\u001b[1;32m----> 6\u001b[1;33m \u001b[1;32mfrom\u001b[0m \u001b[0mtorchvision\u001b[0m \u001b[1;32mimport\u001b[0m \u001b[0mdatasets\u001b[0m\u001b[1;33m,\u001b[0m \u001b[0mtransforms\u001b[0m\u001b[1;33m\u001b[0m\u001b[0m\n\u001b[0m\u001b[0;32m      7\u001b[0m \u001b[1;32mfrom\u001b[0m \u001b[0mtorch\u001b[0m\u001b[1;33m.\u001b[0m\u001b[0mautograd\u001b[0m \u001b[1;32mimport\u001b[0m \u001b[0mVariable\u001b[0m\u001b[1;33m\u001b[0m\u001b[0m\n\u001b[0;32m      8\u001b[0m \u001b[1;32mfrom\u001b[0m \u001b[0mtorch\u001b[0m\u001b[1;33m.\u001b[0m\u001b[0mdistributions\u001b[0m\u001b[1;33m.\u001b[0m\u001b[0mmultivariate_normal\u001b[0m \u001b[1;32mimport\u001b[0m \u001b[0mMultivariateNormal\u001b[0m\u001b[1;33m\u001b[0m\u001b[0m\n",
      "\u001b[1;31mModuleNotFoundError\u001b[0m: No module named 'torchvision'"
     ]
    }
   ],
   "source": [
    "import torch\n",
    "import torch.nn as nn\n",
    "import numpy as np\n",
    "from torch.nn import functional as F\n",
    "from torch import nn, optim\n",
    "from torchvision import datasets, transforms\n",
    "from torch.autograd import Variable\n",
    "from torch.distributions.multivariate_normal import MultivariateNormal\n",
    "from sklearn.datasets import make_sparse_spd_matrix#生成稀疏正定对称精度矩阵\n",
    "from IPython.core.interactiveshell import InteractiveShell\n",
    "InteractiveShell.ast_node_interactivity = \"all\""
   ]
  },
  {
   "cell_type": "code",
   "execution_count": null,
   "metadata": {},
   "outputs": [],
   "source": [
    "device = torch.device(\"cuda:6\" if torch.cuda.is_available() else \"cpu\")\n",
    "class custom_graphconv(nn.Module):\n",
    "    def __init__(self,in_channels,out_channels,max_kernel_size,feature):\n",
    "        super(custom_graphconv,self).__init__()\n",
    "        self.in_channels=in_channels\n",
    "        self.out_channels=out_channels\n",
    "        self.max_kernel_size=max_kernel_size\n",
    "        self.conv_array=nn.Parameter(torch.randn(out_channels,in_channels,max_kernel_size))#核参数数组\n",
    "        self.bias=nn.Parameter(torch.randn(feature,out_channels))#偏置\n",
    "        self.feature=feature# the dimensionality of variable\n",
    "        self.kernel_array=torch.zeros(self.in_channels,self.feature*self.feature,self.feature,out_channels).to(device)\n",
    "        #kernel size-> in_channel*feature*feature*out_channel\n",
    "    def convert_to_kernel(self,adjacent,adj2):#adjacent with diagonal\n",
    "        conv_array2=torch.t(self.conv_array.reshape(self.out_channels*self.in_channels,self.max_kernel_size))\n",
    "        \n",
    "        temp_array=torch.mm(adj2,conv_array2)\n",
    "        temp_array=torch.transpose(temp_array,1,0)\n",
    "        temp_array=temp_array.reshape(1,-1).reshape(conv_array2.shape[1]*adj2.shape[1],adj2.shape[1]).reshape(conv_array2.shape[1],adj2.shape[1],adj2.shape[1])\n",
    "        #cc=cc.reshape((1,conv_array2.shape[1]*adj2.shape[0]),'F').reshape(conv_array2.shape[1]*adj2.shape[1],adj2.shape[1]).reshape(conv_array2.shape[1],adj2.shape[1],adj2.shape[1])\n",
    "        temp_array=temp_array.reshape(self.out_channels,self.in_channels,self.feature,self.feature)\n",
    "        temp_array=temp_array.permute((1,0,2,3))\n",
    "        temp_array=temp_array.permute((0,2,3,1))\n",
    "        \n",
    "        return temp_array\n",
    "    def forward(self,x,adjacent,adj2):\n",
    "        self.kernel_array=self.convert_to_kernel(adjacent,adj2)\n",
    "        x=x.view(-1,self.feature*self.in_channels)#input x of size -> Batch*feature*in_channel\n",
    "        kernel_array=self.kernel_array.contiguous().view(self.in_channels*self.feature,self.feature*self.out_channels)\n",
    "        output=torch.mm(x,kernel_array)\n",
    "        return output.view(-1,self.feature,self.out_channels)+self.bias#output size -> Batch*feature*out_channel"
   ]
  },
  {
   "cell_type": "code",
   "execution_count": null,
   "metadata": {},
   "outputs": [],
   "source": [
    "class GCN_model(nn.Module):\n",
    "    def __init__(self,feature,max_kernel_size,in_channel1,out_channel1,out_channel2,out_channel3,hidden1,out):\n",
    "        super(GCN_model,self).__init__()\n",
    "        self.conv1=custom_graphconv(in_channel1,out_channel1,max_kernel_size,feature)\n",
    "        self.conv2=custom_graphconv(out_channel1,out_channel2,max_kernel_size,feature)\n",
    "        self.conv3=custom_graphconv(out_channel2,out_channel3,max_kernel_size,feature)\n",
    "        self.dense1=nn.Linear(feature,hidden1)\n",
    "        self.dense2=nn.Linear(hidden1,out)\n",
    "    def forward(self,x,adjacent,adj2):\n",
    "        con_out=self.conv1(x,adjacent,adj2)\n",
    "        con_out=self.conv2(con_out,adjacent,adj2)\n",
    "        con_out=self.conv3(con_out,adjacent,adj2)\n",
    "        out=torch.sigmoid(self.dense1(torch.mean(con_out,dim=-1)))\n",
    "        out=torch.sigmoid(self.dense2(out))\n",
    "        return out"
   ]
  },
  {
   "cell_type": "code",
   "execution_count": null,
   "metadata": {},
   "outputs": [],
   "source": [
    "class custom_data(torch.utils.data.dataset.Dataset):\n",
    "    def __init__(self,mu,precision,nsample,label_index):\n",
    "        self.m=MultivariateNormal(loc=mu,precision_matrix=precision)\n",
    "        self.data=self.m.rsample(torch.Size([nsample]))\n",
    "       \n",
    "        self.n=nsample\n",
    "        self.index=label_index\n",
    "    def __getitem__(self,index):\n",
    "        data=self.data\n",
    "        data=(self.data-torch.min(self.data,0)[0])/(torch.max(self.data,0)[0]-torch.min(self.data,0)[0])#归一化\n",
    "        mean=(torch.max(data[:,self.index])+torch.min(data[:,self.index]))/2\n",
    "        label=(data[:,self.index]>mean).unsqueeze(1).float()\n",
    "        return data[index,:],label[index,:]\n",
    "    def __len__(self,):\n",
    "        return self.n"
   ]
  },
  {
   "cell_type": "code",
   "execution_count": null,
   "metadata": {},
   "outputs": [],
   "source": [
    "def train(epoch):\n",
    "#    model.train()\n",
    "        for i in range(epoch):\n",
    "            train_loss=0\n",
    "            for batch_index,(batch_data,batch_label) in enumerate(dataset_loader):\n",
    "                batch_data=batch_data.to(device)\n",
    "                batch_label=batch_label.to(device)\n",
    "                optimizer.zero_grad()\n",
    "                out=model(batch_data,adjacent,adj2)\n",
    "                loss=loss_func(out,batch_label)\n",
    "                loss.backward(retain_graph=True)\n",
    "                train_loss+=loss.item()\n",
    "                optimizer.step()\n",
    "            if i%10==0:\n",
    "                print(\"Train Epoch : {},Total Loss is {}\".format(i,loss))"
   ]
  },
  {
   "cell_type": "code",
   "execution_count": null,
   "metadata": {},
   "outputs": [],
   "source": [
    "def trans(A):\n",
    "    size1=A.shape[0]\n",
    "    A2=np.zeros((size1*size1,size1))\n",
    "    for i in range(size1):\n",
    "        sum=0\n",
    "        for j in range(size1):\n",
    "            if(A[i][j]==1):\n",
    "                A2[i*A.shape[0]+j][sum]=1\n",
    "                sum+=1\n",
    "    return A2\n",
    "if __name__==\"__main__\":\n",
    "    feature=4\n",
    "    rand_seed=0\n",
    "    \n",
    "    torch.manual_seed(rand_seed)\n",
    "    mean=torch.randn(feature)\n",
    "    cov=torch.from_numpy(make_sparse_spd_matrix(feature,alpha=0.95,random_state=0)).float()\n",
    "    adjacent=(cov!=0).float()\n",
    "#     adjacent\n",
    "    max_degree=4 #max(sum(adjacent)).int().item()\n",
    "    A=[[1,0,0,0],[1,0,1,1],[1,1,0,0],[1,1,1,1]]\n",
    "    A=np.array(A)\n",
    "    adj2=trans(A)\n",
    "    adj2=torch.Tensor(adj2)\n",
    "    adj2=adj2.to(device)\n",
    "    data=custom_data(mean,cov,nsample=1000,label_index=2)\n",
    "    dataset_loader=torch.utils.data.DataLoader(dataset=data,batch_size=4,num_workers=2)\n",
    "    print(\"data ready\")\n",
    "    model=GCN_model(feature=feature,max_kernel_size=max_degree,in_channel1=1,out_channel1=3,out_channel2=2,\n",
    "                    out_channel3=2,hidden1=10,out=1).to(device)\n",
    "    optimizer = optim.Adam(model.parameters(), lr=1e-3)\n",
    "    max_epoch=100\n",
    "    adjacent=adjacent.to(device)\n",
    "    loss_func=nn.BCELoss()\n",
    "    train(max_epoch)\n",
    "\n"
   ]
  },
  {
   "cell_type": "code",
   "execution_count": null,
   "metadata": {},
   "outputs": [],
   "source": []
  }
 ],
 "metadata": {
  "kernelspec": {
   "display_name": "Python 3",
   "language": "python",
   "name": "python3"
  },
  "language_info": {
   "codemirror_mode": {
    "name": "ipython",
    "version": 3
   },
   "file_extension": ".py",
   "mimetype": "text/x-python",
   "name": "python",
   "nbconvert_exporter": "python",
   "pygments_lexer": "ipython3",
   "version": "3.6.4"
  }
 },
 "nbformat": 4,
 "nbformat_minor": 2
}
